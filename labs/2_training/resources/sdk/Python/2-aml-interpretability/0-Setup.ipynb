{
  "cells": [
    {
      "cell_type": "markdown",
      "source": [
        "## Setting up for Interpretability\n",
        "\n",
        "Run the below cell, **the go back to the Juypter file browser and click \"Quit\" in the top right corner**."
      ],
      "metadata": {}
    },
    {
      "cell_type": "code",
      "source": [
        "import sys"
      ],
      "outputs": [],
      "execution_count": null,
      "metadata": {}
    },
    {
      "cell_type": "code",
      "source": [
        "!{sys.executable[:-6]}pip uninstall scikit-learn -y"
      ],
      "outputs": [],
      "execution_count": null,
      "metadata": {}
    },
    {
      "cell_type": "code",
      "source": [
        "!{sys.executable[:-6]}pip install --upgrade azureml-contrib-interpret pandas"
      ],
      "outputs": [],
      "execution_count": null,
      "metadata": {
        "scrolled": false
      }
    },
    {
      "cell_type": "markdown",
      "source": [
        "### Now go back to the Juypter file browser and click \"Quit\" in the top right corner\n",
        "That will restart jupyter, which is required to make the interpretability dashboard work."
      ],
      "metadata": {}
    }
  ],
  "metadata": {
    "kernelspec": {
      "name": "python3-azureml",
      "language": "python",
      "display_name": "Python 3.6 - AzureML"
    },
    "language_info": {
      "name": "python",
      "version": "3.6.9",
      "mimetype": "text/x-python",
      "codemirror_mode": {
        "name": "ipython",
        "version": 3
      },
      "pygments_lexer": "ipython3",
      "nbconvert_exporter": "python",
      "file_extension": ".py"
    },
    "kernel_info": {
      "name": "python3-azureml"
    },
    "nteract": {
      "version": "nteract-front-end@1.0.0"
    }
  },
  "nbformat": 4,
  "nbformat_minor": 2
}