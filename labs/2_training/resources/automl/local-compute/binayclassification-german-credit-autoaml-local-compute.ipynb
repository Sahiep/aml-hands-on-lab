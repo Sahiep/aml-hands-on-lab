{
  "cells": [
    {
      "cell_type": "markdown",
      "source": [
        "# AutoML Classification experiment using Local Compute and Pandas DataFrames\n",
        "### Save trained model as Scikit-Learn model (.pkl) and as ONNX model (.onnx file)\n",
        "### Data: German credit dataset loaded from Azure ML Dataset"
      ],
      "metadata": {}
    },
    {
      "cell_type": "markdown",
      "source": [
        "##  Get Azure ML Workspace to use"
      ],
      "metadata": {}
    },
    {
      "cell_type": "code",
      "source": [
        "# azureml-core of version 1.0.72 or higher is required\n",
        "from azureml.core import Workspace, Dataset\n",
        "\n",
        "# Get Workspace defined in by default config.json file\n",
        "ws = Workspace.from_config()"
      ],
      "outputs": [],
      "execution_count": null,
      "metadata": {}
    },
    {
      "cell_type": "markdown",
      "source": [
        "## Load data from Azure ML Datasets into Pandas DataFrame"
      ],
      "metadata": {}
    },
    {
      "cell_type": "code",
      "source": [
        "# Load Data\n",
        "aml_dataset = ws.datasets['german-credit']\n",
        "\n",
        "# Use Pandas DataFrame just to sneak peak some data and schema\n",
        "full_df = aml_dataset.to_pandas_dataframe()\n",
        "# .to_pandas_dataframe().dropna()\n",
        "full_df.head(5)"
      ],
      "outputs": [],
      "execution_count": null,
      "metadata": {}
    },
    {
      "cell_type": "code",
      "source": [
        "# Use Pandas DataFrame just to investigate the dataset's schema and info\n",
        "full_df.describe()"
      ],
      "outputs": [],
      "execution_count": null,
      "metadata": {}
    },
    {
      "cell_type": "markdown",
      "source": [
        "## Clean up the initial dataset (Using related Pandas DataFrame)"
      ],
      "metadata": {}
    },
    {
      "cell_type": "code",
      "source": [
        "# Dropping Sno column since it is merely an identifier\n",
        "full_df = full_df.drop(['Sno'], axis=1)"
      ],
      "outputs": [],
      "execution_count": null,
      "metadata": {}
    },
    {
      "cell_type": "markdown",
      "source": [
        "## Split original dataset in test/train sets using Scikit-Learn train_test_split function"
      ],
      "metadata": {}
    },
    {
      "cell_type": "code",
      "source": [
        "from sklearn.model_selection import train_test_split\n",
        "\n",
        "# Split using ScikitLearn train_test_split function using Dataframes\n",
        "# Will use test dataframe at the end, without AutoML, just for testing predictions with the model\n",
        "\n",
        "# Only split in test/train\n",
        "train_df, test_df = train_test_split(full_df, test_size=0.2, random_state=1)\n",
        "train_df.describe()\n",
        "\n",
        "# Split in x/y and test/train\n",
        "# y_df = full_df.pop(\"Risk\")\n",
        "# x_df = full_df\n",
        "# x_train, x_test, y_train, y_test = train_test_split(x_df, y_df, test_size=0.1, random_state=1)\n",
        "\n",
        "#Another possibility would be to split using the Azure ML Datasets (Better for Remote Compute): \n",
        "# https://docs.microsoft.com/en-us/python/api/azureml-core/azureml.data.tabulardataset?view=azure-ml-py#random-split-percentage--seed-none-"
      ],
      "outputs": [],
      "execution_count": null,
      "metadata": {}
    },
    {
      "cell_type": "code",
      "source": [
        "test_df.describe()"
      ],
      "outputs": [],
      "execution_count": null,
      "metadata": {}
    },
    {
      "cell_type": "markdown",
      "source": [
        "## List and select primary metric to drive the AutoML classification problem"
      ],
      "metadata": {}
    },
    {
      "cell_type": "code",
      "source": [
        "from azureml.train import automl\n",
        "\n",
        "# List of possible primary metrics is here:\n",
        "# https://docs.microsoft.com/en-us/azure/machine-learning/how-to-configure-auto-train#primary-metric\n",
        "    \n",
        "# Get a list of valid metrics for your given task\n",
        "automl.utilities.get_primary_metrics('classification')\n",
        "\n",
        "# I'll use 'accuracy' as primary metric (Closer to 1.00 is better)"
      ],
      "outputs": [],
      "execution_count": null,
      "metadata": {}
    },
    {
      "cell_type": "markdown",
      "source": [
        "## Define AutoML Experiment settings"
      ],
      "metadata": {}
    },
    {
      "cell_type": "code",
      "source": [
        "import logging\n",
        "\n",
        "# Explanation of Settings: https://docs.microsoft.com/en-us/azure/machine-learning/how-to-configure-auto-train#configure-your-experiment-settings\n",
        "\n",
        "# AutoMLConfig info on: \n",
        "# https://docs.microsoft.com/en-us/python/api/azureml-train-automl-client/azureml.train.automl.automlconfig.automlconfig\n",
        "\n",
        "# You can provide additional settings as a **kwargs parameter for the AutoMLConfig object\n",
        "# automl_settings = {\n",
        "#     \"whitelist_models\": 'XGBoostClassifier'\n",
        "# }\n",
        "\n",
        "from azureml.train.automl import AutoMLConfig\n",
        "\n",
        "automl_config = AutoMLConfig(task='classification',\n",
        "                             primary_metric='AUC_weighted',\n",
        "                             #experiment_timeout_minutes= 15,                            \n",
        "                             training_data=train_df,\n",
        "                             label_column_name=\"Risk\",\n",
        "                             # X=x_train.values,             # X parameter is deprecated \n",
        "                             # y=y_train.values.flatten(),   # y parameter is deprecated \n",
        "                             n_cross_validations= 5,\n",
        "                             # blacklist_models='XGBoostClassifier', \n",
        "                             # iteration_timeout_minutes= 5,                                                    \n",
        "                             enable_early_stopping= True,\n",
        "                             featurization= 'auto',\n",
        "                             debug_log='automated_ml_errors.log',\n",
        "                             verbosity= logging.INFO,\n",
        "                             enable_onnx_compatible_models=True\n",
        "                             # **automl_settings\n",
        "                             )\n",
        "\n",
        "# WARNING: If using X and y parameters (deprecated) you get the following warning\n",
        "# WARNING - The AutoMLConfig inputs you have specified will soon be deprecated. Please use the AutoMLConfig shown in our documentation: https://aka.ms/AutoMLConfig\n"
      ],
      "outputs": [],
      "execution_count": null,
      "metadata": {}
    },
    {
      "cell_type": "markdown",
      "source": [
        "## Run Experiment with multiple child runs under the covers"
      ],
      "metadata": {}
    },
    {
      "cell_type": "code",
      "source": [
        "from azureml.core import Experiment\n",
        "from datetime import datetime\n",
        "\n",
        "now = datetime.now()\n",
        "#time_string = now.strftime(\"%m-%d-%Y-%H\")\n",
        "time_string = now.strftime(\"%m-%d-%Y-%H-%M\")\n",
        "print(time_string)\n",
        "experiment_name = \"credit-automl-local-{0}\".format(time_string)\n",
        "print(experiment_name)\n",
        "\n",
        "experiment = Experiment(workspace=ws, \n",
        "                        name=experiment_name)\n",
        "\n",
        "run = experiment.submit(automl_config, show_output=True)"
      ],
      "outputs": [],
      "execution_count": null,
      "metadata": {}
    },
    {
      "cell_type": "markdown",
      "source": [
        "## Explore results with Widget"
      ],
      "metadata": {}
    },
    {
      "cell_type": "code",
      "source": [
        "# Explore the results of automatic training with a Jupyter widget: https://docs.microsoft.com/en-us/python/api/azureml-widgets/azureml.widgets?view=azure-ml-py\n",
        "from azureml.widgets import RunDetails\n",
        "RunDetails(run).show()"
      ],
      "outputs": [],
      "execution_count": null,
      "metadata": {}
    },
    {
      "cell_type": "markdown",
      "source": [
        "## Retrieve the 'Best' Scikit-Learn Model"
      ],
      "metadata": {}
    },
    {
      "cell_type": "code",
      "source": [
        "best_run, fitted_model = run.get_output()\n",
        "print(best_run)\n",
        "print('--------')\n",
        "print(fitted_model)"
      ],
      "outputs": [],
      "execution_count": null,
      "metadata": {}
    },
    {
      "cell_type": "markdown",
      "source": [
        "## Retrieve the 'Best' ONNX Model\n",
        "Below we select the best pipeline from our iterations. The get_output method returns the best run and the fitted model. The Model includes the pipeline and any pre-processing. Overloads on get_output allow you to retrieve the best run and fitted model for any logged metric or for a particular iteration.\n",
        "Set the parameter return_onnx_model=True to retrieve the best ONNX model, instead of the Python model."
      ],
      "metadata": {}
    },
    {
      "cell_type": "code",
      "source": [
        "best_run, onnx_mdl = run.get_output(return_onnx_model=True)"
      ],
      "outputs": [],
      "execution_count": null,
      "metadata": {}
    },
    {
      "cell_type": "markdown",
      "source": [
        "### Explicetely Save the best ONNX model on local drive path"
      ],
      "metadata": {}
    },
    {
      "cell_type": "code",
      "source": [
        "from azureml.automl.runtime.onnx_convert import OnnxConverter\n",
        "onnx_fl_path = \"./best_model.onnx\"\n",
        "OnnxConverter.save_onnx_model(onnx_mdl, onnx_fl_path)"
      ],
      "outputs": [],
      "execution_count": null,
      "metadata": {}
    },
    {
      "cell_type": "markdown",
      "source": [
        "## See files associated with the 'Best run'"
      ],
      "metadata": {}
    },
    {
      "cell_type": "code",
      "source": [
        "print(best_run.get_file_names())\n",
        "\n",
        "# best_run.download_file('azureml-logs/70_driver_log.txt')"
      ],
      "outputs": [],
      "execution_count": null,
      "metadata": {}
    },
    {
      "cell_type": "markdown",
      "source": [
        "## Download experiment run related files \n",
        "Model files (.pkl and .onnx), Environment files to see Conda and Environment dependencies used by AutoML, etc."
      ],
      "metadata": {}
    },
    {
      "cell_type": "code",
      "source": [
        "# Download the run's files\n",
        "best_run.download_file('outputs/model.pkl')\n",
        "best_run.download_file('outputs/model.onnx')\n",
        "best_run.download_file('outputs/model_onnx.json')\n",
        "best_run.download_file('outputs/conda_env_v_1_0_0.yml')\n",
        "best_run.download_file('outputs/env_dependencies.json')\n",
        "best_run.download_file('outputs/scoring_file_v_1_0_0.py')\n",
        "best_run.download_file('outputs/pipeline_graph.json')"
      ],
      "outputs": [],
      "execution_count": null,
      "metadata": {}
    },
    {
      "cell_type": "markdown",
      "source": [
        "## Register the Scikit-Learn model (.pkl file)\n",
        "Once you've trained the model, you can save and register it to your workspace. Model registration lets you store and version your models in your workspace to simplify model management and deployment.\n",
        "\n",
        "Running the following code will register the model to your workspace, and will make it available to reference by name in remote compute contexts or deployment scripts. "
      ],
      "metadata": {}
    },
    {
      "cell_type": "code",
      "source": [
        "from azureml.core.model import Model\n",
        "\n",
        "model_reg = best_run.register_model(model_name='creditmodel_automl_loc',      # Name of the registered model in your workspace.\n",
        "                                    description='Binary classification model for German credit risk. From AutoML local training',\n",
        "                                    model_path='outputs/model.pkl',              # Local file to upload and register as a model.\n",
        "                                    model_framework=Model.Framework.SCIKITLEARN, # Framework used to create the model.\n",
        "                                    model_framework_version='0.XX.X',            # Version of scikit-learn used to create the model.\n",
        "                                    tags={'ml-task': \"binary-classification-automl\", 'business-area': \"Credit risk\"},\n",
        "                                    properties={'pandas-version': \"0.XX.X\"},\n",
        "                                    sample_input_dataset=aml_dataset\n",
        "                              )\n",
        "\n",
        "print(model_reg)\n",
        "\n",
        "# (Q1:) How can we know what frameworks/libraries versions were used by AutoML when training the model?\n",
        "#         - If investigating the outputs/conda_env_v_1_0_0.yml file, some libraries like Pandas and Scikit-Learn are not showing any version...\n",
        "\n",
        "# (Q2:) Why best_run.get_environment() fails?\n",
        "# best_run_environment = best_run.get_environment() \n",
        "# print(best_run_environment)\n"
      ],
      "outputs": [],
      "execution_count": null,
      "metadata": {}
    },
    {
      "cell_type": "markdown",
      "source": [
        "## Make Predictions"
      ],
      "metadata": {}
    },
    {
      "cell_type": "markdown",
      "source": [
        "### Prep Test Data: Extract X values (feature columns) from test dataset and convert to NumPi array for predicting "
      ],
      "metadata": {}
    },
    {
      "cell_type": "code",
      "source": [
        "import pandas as pd\n",
        "\n",
        "#Remove Label/y column\n",
        "if 'Risk' in test_df.columns:\n",
        "    y_test_df = test_df.pop('Risk')\n",
        "\n",
        "x_test_df = test_df"
      ],
      "outputs": [],
      "execution_count": null,
      "metadata": {}
    },
    {
      "cell_type": "code",
      "source": [
        "x_test_df.describe()"
      ],
      "outputs": [],
      "execution_count": null,
      "metadata": {}
    },
    {
      "cell_type": "markdown",
      "source": [
        "### Make Predictions with Scikit-Learn Model"
      ],
      "metadata": {}
    },
    {
      "cell_type": "markdown",
      "source": [
        "#### (Optional) Download Model from Registry and load in-memory"
      ],
      "metadata": {}
    },
    {
      "cell_type": "code",
      "source": [
        "print(Model.get_model_path('creditmodel_automl_loc', _workspace=ws))\n",
        "\n",
        "model_definition_from_registry = Model(ws,'creditmodel_automl_loc')\n",
        "model_definition_from_registry.download(target_dir='.', exist_ok=True)\n",
        "print(model_definition_from_registry)\n",
        "print('-------')\n",
        "\n",
        "# Load the model into memory\n",
        "import joblib\n",
        "fitted_model = joblib.load('model.pkl')\n",
        "print(fitted_model)"
      ],
      "outputs": [],
      "execution_count": null,
      "metadata": {}
    },
    {
      "cell_type": "code",
      "source": [
        "# Try the best model making predictions with the test dataset\n",
        "y_predictions = fitted_model.predict(x_test_df)\n",
        "\n",
        "print('10 predictions: ')\n",
        "print(y_predictions[:10])"
      ],
      "outputs": [],
      "execution_count": null,
      "metadata": {}
    },
    {
      "cell_type": "code",
      "source": [
        "y_predictions.shape"
      ],
      "outputs": [],
      "execution_count": null,
      "metadata": {}
    },
    {
      "cell_type": "markdown",
      "source": [
        "## Make Predictions with the ONNX model, using onnxruntime package\n",
        "Needs pip install onnxruntime==1.0.0' in environment (Also try with 1.1.0 version)"
      ],
      "metadata": {}
    },
    {
      "cell_type": "code",
      "source": [
        "import sys\n",
        "import json\n",
        "from azureml.automl.core.onnx_convert import OnnxConvertConstants\n",
        "from azureml.train.automl import constants\n",
        "\n",
        "if sys.version_info < OnnxConvertConstants.OnnxIncompatiblePythonVersion:\n",
        "    python_version_compatible = True\n",
        "else:\n",
        "    python_version_compatible = False\n",
        "    \n",
        "import onnxruntime\n",
        "from azureml.automl.runtime.onnx_convert import OnnxInferenceHelper\n",
        "\n",
        "def get_onnx_res(run):\n",
        "    res_path = 'onnx_resource.json'\n",
        "    run.download_file(name=constants.MODEL_RESOURCE_PATH_ONNX, output_file_path=res_path)\n",
        "    with open(res_path) as f:\n",
        "        onnx_res = json.load(f)\n",
        "    return onnx_res\n",
        "\n",
        "if python_version_compatible:\n",
        "    # test_df = test_dataset.to_pandas_dataframe()\n",
        "    mdl_bytes = onnx_mdl.SerializeToString()\n",
        "    onnx_res = get_onnx_res(best_run)\n",
        "\n",
        "    onnxrt_helper = OnnxInferenceHelper(mdl_bytes, onnx_res)\n",
        "    pred_onnx, pred_prob_onnx = onnxrt_helper.predict(x_test_df)\n",
        "\n",
        "    print('Predicting with ONNX model...')\n",
        "    print(pred_onnx)\n",
        "    print(pred_prob_onnx)\n",
        "else:\n",
        "    print('Please use Python version 3.6 or 3.7 to run the inference helper.')"
      ],
      "outputs": [],
      "execution_count": null,
      "metadata": {}
    },
    {
      "cell_type": "markdown",
      "source": [
        "### Calculate the Accuracy with Test Dataset (Data not used for training)"
      ],
      "metadata": {}
    },
    {
      "cell_type": "code",
      "source": [
        "from sklearn.metrics import accuracy_score\n",
        "\n",
        "print('Accuracy with Scikit-Learn model:')\n",
        "print(accuracy_score(y_test_df, y_predictions))\n",
        "\n",
        "print('Accuracy with ONNX model:')\n",
        "print(accuracy_score(y_test_df, pred_onnx))"
      ],
      "outputs": [],
      "execution_count": null,
      "metadata": {}
    }
  ],
  "metadata": {
    "kernelspec": {
      "name": "python3-azureml",
      "language": "python",
      "display_name": "Python 3.6 - AzureML"
    },
    "language_info": {
      "name": "python",
      "version": "3.6.9",
      "mimetype": "text/x-python",
      "codemirror_mode": {
        "name": "ipython",
        "version": 3
      },
      "pygments_lexer": "ipython3",
      "nbconvert_exporter": "python",
      "file_extension": ".py"
    },
    "kernel_info": {
      "name": "python3-azureml"
    },
    "nteract": {
      "version": "nteract-front-end@1.0.0"
    }
  },
  "nbformat": 4,
  "nbformat_minor": 4
}